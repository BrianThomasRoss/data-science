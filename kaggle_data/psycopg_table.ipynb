{
 "cells": [
  {
   "cell_type": "code",
   "execution_count": 18,
   "metadata": {},
   "outputs": [],
   "source": [
    "import sys\n",
    "import psycopg2\n",
    "from psycopg2.extras import execute_values\n",
    "from dotenv import load_dotenv\n",
    "import os\n",
    "import json\n",
    "from sqlalchemy import create_engine"
   ]
  },
  {
   "cell_type": "code",
   "execution_count": 7,
   "metadata": {},
   "outputs": [],
   "source": [
    "SPOTIFY_DB_NAME = \"phmcuozt\"\n",
    "SPOTIFY_DB_PW = \"Gq5822Z4v3ypBvLtnCsF4XjabVM3LKr9\"\n",
    "SPOTIFY_DB_HOST = \"drona.db.elephantsql.com\"\n",
    "SPOTIFY_DB_USER = \"phmcuozt\""
   ]
  },
  {
   "cell_type": "code",
   "execution_count": 9,
   "metadata": {},
   "outputs": [],
   "source": [
    "conn = psycopg2.connect(dbname=SPOTIFY_DB_NAME, user=SPOTIFY_DB_USER,\n",
    "                        password=SPOTIFY_DB_PW, host=SPOTIFY_DB_HOST)\n",
    "cur = conn.cursor()"
   ]
  },
  {
   "cell_type": "code",
   "execution_count": 11,
   "metadata": {},
   "outputs": [],
   "source": [
    "df = pd.read_csv(\"https://raw.githubusercontent.com/Build-Week-Spotify-Song-Recommender/data-science/master/kaggle_data/SpotifyAudioFeaturesApril2019.csv\")"
   ]
  },
  {
   "cell_type": "code",
   "execution_count": 17,
   "metadata": {},
   "outputs": [
    {
     "output_type": "execute_result",
     "data": {
      "text/plain": "                  artist_name                track_id      track_name  \\\n130658            Calum Scott  0cvfSKcm9VeduwyYPrxtLx  Come Back Home   \n130659           Saint Claire  43MP9F7UzvfilSrw2SqZGJ  Enough for You   \n130660              Mike Stud  4TWlUuFk81NGUNKwndyS5Q           Do It   \n130661               D Savage  5iGBXzOoRo4sBTy8wdzMyK        No Smoke   \n130662  Banda Los Sebastianes  7LNtyuekYHiZ99UxkrfCQR         En Vida   \n\n        acousticness  danceability  duration_ms  energy  instrumentalness  \\\n130658       0.00678         0.601       190539   0.801               0.0   \n130659       0.91800         0.387       194583   0.249               0.0   \n130660       0.33000         0.717       139191   0.532               0.0   \n130661       0.00790         0.772       180013   0.510               0.0   \n130662       0.54900         0.715       145827   0.734               0.0   \n\n        key  liveness  loudness  mode  speechiness    tempo  time_signature  \\\n130658   11    0.0991    -5.174     1       0.0323  131.049               4   \n130659    9    0.1030   -13.233     1       0.0437   94.039               4   \n130660    8    0.0997    -8.351     0       0.2060  156.977               4   \n130661    4    0.1310    -9.670     0       0.1200  120.049               4   \n130662    3    0.1080    -3.244     1       0.0367  130.128               3   \n\n        valence  popularity  \n130658   0.2890          57  \n130659   0.3460          60  \n130660   0.5460          47  \n130661   0.0755          50  \n130662   0.9760          55  ",
      "text/html": "<div>\n<style scoped>\n    .dataframe tbody tr th:only-of-type {\n        vertical-align: middle;\n    }\n\n    .dataframe tbody tr th {\n        vertical-align: top;\n    }\n\n    .dataframe thead th {\n        text-align: right;\n    }\n</style>\n<table border=\"1\" class=\"dataframe\">\n  <thead>\n    <tr style=\"text-align: right;\">\n      <th></th>\n      <th>artist_name</th>\n      <th>track_id</th>\n      <th>track_name</th>\n      <th>acousticness</th>\n      <th>danceability</th>\n      <th>duration_ms</th>\n      <th>energy</th>\n      <th>instrumentalness</th>\n      <th>key</th>\n      <th>liveness</th>\n      <th>loudness</th>\n      <th>mode</th>\n      <th>speechiness</th>\n      <th>tempo</th>\n      <th>time_signature</th>\n      <th>valence</th>\n      <th>popularity</th>\n    </tr>\n  </thead>\n  <tbody>\n    <tr>\n      <td>130658</td>\n      <td>Calum Scott</td>\n      <td>0cvfSKcm9VeduwyYPrxtLx</td>\n      <td>Come Back Home</td>\n      <td>0.00678</td>\n      <td>0.601</td>\n      <td>190539</td>\n      <td>0.801</td>\n      <td>0.0</td>\n      <td>11</td>\n      <td>0.0991</td>\n      <td>-5.174</td>\n      <td>1</td>\n      <td>0.0323</td>\n      <td>131.049</td>\n      <td>4</td>\n      <td>0.2890</td>\n      <td>57</td>\n    </tr>\n    <tr>\n      <td>130659</td>\n      <td>Saint Claire</td>\n      <td>43MP9F7UzvfilSrw2SqZGJ</td>\n      <td>Enough for You</td>\n      <td>0.91800</td>\n      <td>0.387</td>\n      <td>194583</td>\n      <td>0.249</td>\n      <td>0.0</td>\n      <td>9</td>\n      <td>0.1030</td>\n      <td>-13.233</td>\n      <td>1</td>\n      <td>0.0437</td>\n      <td>94.039</td>\n      <td>4</td>\n      <td>0.3460</td>\n      <td>60</td>\n    </tr>\n    <tr>\n      <td>130660</td>\n      <td>Mike Stud</td>\n      <td>4TWlUuFk81NGUNKwndyS5Q</td>\n      <td>Do It</td>\n      <td>0.33000</td>\n      <td>0.717</td>\n      <td>139191</td>\n      <td>0.532</td>\n      <td>0.0</td>\n      <td>8</td>\n      <td>0.0997</td>\n      <td>-8.351</td>\n      <td>0</td>\n      <td>0.2060</td>\n      <td>156.977</td>\n      <td>4</td>\n      <td>0.5460</td>\n      <td>47</td>\n    </tr>\n    <tr>\n      <td>130661</td>\n      <td>D Savage</td>\n      <td>5iGBXzOoRo4sBTy8wdzMyK</td>\n      <td>No Smoke</td>\n      <td>0.00790</td>\n      <td>0.772</td>\n      <td>180013</td>\n      <td>0.510</td>\n      <td>0.0</td>\n      <td>4</td>\n      <td>0.1310</td>\n      <td>-9.670</td>\n      <td>0</td>\n      <td>0.1200</td>\n      <td>120.049</td>\n      <td>4</td>\n      <td>0.0755</td>\n      <td>50</td>\n    </tr>\n    <tr>\n      <td>130662</td>\n      <td>Banda Los Sebastianes</td>\n      <td>7LNtyuekYHiZ99UxkrfCQR</td>\n      <td>En Vida</td>\n      <td>0.54900</td>\n      <td>0.715</td>\n      <td>145827</td>\n      <td>0.734</td>\n      <td>0.0</td>\n      <td>3</td>\n      <td>0.1080</td>\n      <td>-3.244</td>\n      <td>1</td>\n      <td>0.0367</td>\n      <td>130.128</td>\n      <td>3</td>\n      <td>0.9760</td>\n      <td>55</td>\n    </tr>\n  </tbody>\n</table>\n</div>"
     },
     "metadata": {},
     "execution_count": 17
    }
   ],
   "source": [
    "df.tail()"
   ]
  },
  {
   "cell_type": "code",
   "execution_count": 15,
   "metadata": {},
   "outputs": [],
   "source": [
    "df_columns = df.columns"
   ]
  },
  {
   "cell_type": "code",
   "execution_count": null,
   "metadata": {},
   "outputs": [],
   "source": []
  }
 ],
 "metadata": {
  "language_info": {
   "codemirror_mode": {
    "name": "ipython",
    "version": 3
   },
   "file_extension": ".py",
   "mimetype": "text/x-python",
   "name": "python",
   "nbconvert_exporter": "python",
   "pygments_lexer": "ipython3",
   "version": "3.7.4-final"
  },
  "orig_nbformat": 2,
  "kernelspec": {
   "name": "python3",
   "display_name": "Python 3"
  }
 },
 "nbformat": 4,
 "nbformat_minor": 2
}